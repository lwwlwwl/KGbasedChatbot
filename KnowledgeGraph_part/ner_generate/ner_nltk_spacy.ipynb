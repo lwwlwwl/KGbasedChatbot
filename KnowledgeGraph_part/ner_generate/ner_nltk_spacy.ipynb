{
  "nbformat": 4,
  "nbformat_minor": 0,
  "metadata": {
    "colab": {
      "provenance": []
    },
    "kernelspec": {
      "name": "python3",
      "display_name": "Python 3"
    },
    "language_info": {
      "name": "python"
    },
    "gpuClass": "standard"
  },
  "cells": [
    {
      "cell_type": "code",
      "execution_count": null,
      "metadata": {
        "colab": {
          "base_uri": "https://localhost:8080/"
        },
        "id": "RWw_sn8ZzHHx",
        "outputId": "3aa847b0-9978-455a-8d56-e56fa8716057"
      },
      "outputs": [
        {
          "output_type": "stream",
          "name": "stdout",
          "text": [
            "Mounted at /content/drive\n"
          ]
        }
      ],
      "source": [
        "from google.colab import drive\n",
        "drive.mount('/content/drive')"
      ]
    },
    {
      "cell_type": "code",
      "source": [
        "import nltk\n",
        "from nltk.tokenize import word_tokenize\n",
        "from nltk.tag import pos_tag\n",
        "import re\n",
        "path=\"/content/drive/MyDrive/CS505/finalProj/cornell_cleaned_new.txt\""
      ],
      "metadata": {
        "id": "eScQY7ebVJSX"
      },
      "execution_count": null,
      "outputs": []
    },
    {
      "cell_type": "code",
      "source": [
        "sentences = \"\"\n",
        "with open(path, 'r') as f:\n",
        "  for x in f:\n",
        "    sentences+=x\n",
        "\n",
        "sent_ls=sentences.split('===')"
      ],
      "metadata": {
        "id": "aLjQxqR7Uw8-"
      },
      "execution_count": null,
      "outputs": []
    },
    {
      "cell_type": "code",
      "source": [
        "nltk.download('punkt')\n",
        "nltk.download('averaged_perceptron_tagger')"
      ],
      "metadata": {
        "colab": {
          "base_uri": "https://localhost:8080/"
        },
        "id": "h8HzQg1BWgyg",
        "outputId": "24ed5ee4-62df-4009-b243-b8b8acb4a09f"
      },
      "execution_count": null,
      "outputs": [
        {
          "output_type": "stream",
          "name": "stderr",
          "text": [
            "[nltk_data] Downloading package punkt to /root/nltk_data...\n",
            "[nltk_data]   Package punkt is already up-to-date!\n",
            "[nltk_data] Downloading package averaged_perceptron_tagger to\n",
            "[nltk_data]     /root/nltk_data...\n",
            "[nltk_data]   Package averaged_perceptron_tagger is already up-to-\n",
            "[nltk_data]       date!\n"
          ]
        }
      ]
    },
    {
      "cell_type": "code",
      "source": [
        "# return part-of-speech for each word in input sentence \n",
        "def getPOS(sent):\n",
        "    sent = re.sub(r'\\n', ' ', sent)\n",
        "    sent = re.sub('[QA]:+', ' ', sent)\n",
        "    print(sent)\n",
        "    sent = nltk.word_tokenize(sent)\n",
        "    sent = nltk.pos_tag(sent) \n",
        "    return sent"
      ],
      "metadata": {
        "id": "zzVx1i9-Y-J8"
      },
      "execution_count": null,
      "outputs": []
    },
    {
      "cell_type": "code",
      "source": [
        "!pip install svgling"
      ],
      "metadata": {
        "colab": {
          "base_uri": "https://localhost:8080/"
        },
        "id": "biEoifJJbJYr",
        "outputId": "1890d9b9-bd78-4cf2-8460-7568d4c2f2b5"
      },
      "execution_count": null,
      "outputs": [
        {
          "output_type": "stream",
          "name": "stdout",
          "text": [
            "Looking in indexes: https://pypi.org/simple, https://us-python.pkg.dev/colab-wheels/public/simple/\n",
            "Collecting svgling\n",
            "  Downloading svgling-0.3.1-py3-none-any.whl (21 kB)\n",
            "Collecting svgwrite\n",
            "  Downloading svgwrite-1.4.3-py3-none-any.whl (67 kB)\n",
            "\u001b[K     |████████████████████████████████| 67 kB 2.6 MB/s \n",
            "\u001b[?25hInstalling collected packages: svgwrite, svgling\n",
            "Successfully installed svgling-0.3.1 svgwrite-1.4.3\n"
          ]
        }
      ]
    },
    {
      "cell_type": "code",
      "source": [
        "# chunking based on the pattern\n",
        "def chunking(sent, pattern):\n",
        "  cp = nltk.RegexpParser(pattern)\n",
        "  cs = cp.parse(sent)\n",
        "  return cs"
      ],
      "metadata": {
        "id": "Ry5EhqdMZj3m"
      },
      "execution_count": null,
      "outputs": []
    },
    {
      "cell_type": "code",
      "source": [
        "sent = getPOS(sent_ls[0])\n",
        "pattern = 'NP: {<DT>?<JJ>*<NN>}'\n",
        "cs = chunking(sent,pattern)"
      ],
      "metadata": {
        "colab": {
          "base_uri": "https://localhost:8080/"
        },
        "id": "9dP3BwV2Wkdt",
        "outputId": "7e8ee410-eda7-437f-9ff2-dd8d040144a8"
      },
      "execution_count": null,
      "outputs": [
        {
          "output_type": "stream",
          "name": "stdout",
          "text": [
            "  Not the hacking and gagging and spitting part . Please .   Okay ... then how 'bout we try out some French cuisine . Saturday ? Night ? \n"
          ]
        }
      ]
    },
    {
      "cell_type": "code",
      "source": [
        "from nltk.chunk import conlltags2tree, tree2conlltags\n",
        "from pprint import pprint\n",
        "# iob_tagged = tree2conlltags(cs)\n",
        "# pprint(iob_tagged)\n",
        "\n",
        "# nltk.download('maxent_ne_chunker')\n",
        "# nltk.download('words')\n",
        "ne_tree = nltk.ne_chunk(pos_tag(word_tokenize('Mary is going to Paris on sep 6 at 2pm from Boston Logan Airport')))\n",
        "print(tree2conlltags(ne_tree))"
      ],
      "metadata": {
        "colab": {
          "base_uri": "https://localhost:8080/"
        },
        "id": "6E9fVl_Lbks8",
        "outputId": "979faed3-067d-4905-c94f-5d155f87612f"
      },
      "execution_count": null,
      "outputs": [
        {
          "output_type": "stream",
          "name": "stdout",
          "text": [
            "[('Mary', 'NNP', 'O'), ('is', 'VBZ', 'O'), ('going', 'VBG', 'O'), ('to', 'TO', 'O'), ('Paris', 'NNP', 'B-GPE'), ('on', 'IN', 'O'), ('sep', 'NN', 'O'), ('6', 'CD', 'O'), ('at', 'IN', 'O'), ('2pm', 'CD', 'O'), ('from', 'IN', 'O'), ('Boston', 'NNP', 'B-GPE'), ('Logan', 'NNP', 'O'), ('Airport', 'NNP', 'O')]\n"
          ]
        }
      ]
    },
    {
      "cell_type": "code",
      "source": [
        "s = 'Mary is going to Paris on sep 6 at 2pm from Boston Logan Airport.'\n",
        "t = word_tokenize(s)\n",
        "p = pos_tag(t)\n",
        "chunking(p, pattern)\n",
        "# nltk.ne_chunk(pos_tag(word_tokenize(s)))"
      ],
      "metadata": {
        "colab": {
          "base_uri": "https://localhost:8080/",
          "height": 189
        },
        "id": "HC8PUkQieGTB",
        "outputId": "f376c0c4-be6d-49ec-d346-c1b3bf49df4b"
      },
      "execution_count": null,
      "outputs": [
        {
          "output_type": "execute_result",
          "data": {
            "text/plain": [
              "Tree('S', [('Mary', 'NNP'), ('is', 'VBZ'), ('going', 'VBG'), ('to', 'TO'), ('Paris', 'NNP'), ('on', 'IN'), Tree('NP', [('sep', 'NN')]), ('6', 'CD'), ('at', 'IN'), ('2pm', 'CD'), ('from', 'IN'), ('Boston', 'NNP'), ('Logan', 'NNP'), ('Airport', 'NNP'), ('.', '.')])"
            ],
            "image/svg+xml": "<svg baseProfile=\"full\" height=\"168px\" preserveAspectRatio=\"xMidYMid meet\" style=\"font-family: times, serif; font-weight:normal; font-style: normal; font-size: 16px;\" version=\"1.1\" viewBox=\"0,0,672.0,168.0\" width=\"672px\" xmlns=\"http://www.w3.org/2000/svg\" xmlns:ev=\"http://www.w3.org/2001/xml-events\" xmlns:xlink=\"http://www.w3.org/1999/xlink\"><defs /><svg width=\"100%\" x=\"0\" y=\"0em\"><defs /><text text-anchor=\"middle\" x=\"50%\" y=\"1em\">S</text></svg><svg width=\"7.14286%\" x=\"0%\" y=\"3em\"><defs /><svg width=\"100%\" x=\"0\" y=\"0em\"><defs /><text text-anchor=\"middle\" x=\"50%\" y=\"1em\">Mary</text></svg><svg width=\"100%\" x=\"0%\" y=\"3em\"><defs /><svg width=\"100%\" x=\"0\" y=\"0em\"><defs /><text text-anchor=\"middle\" x=\"50%\" y=\"1em\">NNP</text></svg></svg><line stroke=\"black\" x1=\"50%\" x2=\"50%\" y1=\"1.2em\" y2=\"3em\" /></svg><line stroke=\"black\" x1=\"50%\" x2=\"3.57143%\" y1=\"1.2em\" y2=\"3em\" /><svg width=\"5.95238%\" x=\"7.14286%\" y=\"3em\"><defs /><svg width=\"100%\" x=\"0\" y=\"0em\"><defs /><text text-anchor=\"middle\" x=\"50%\" y=\"1em\">is</text></svg><svg width=\"100%\" x=\"0%\" y=\"3em\"><defs /><svg width=\"100%\" x=\"0\" y=\"0em\"><defs /><text text-anchor=\"middle\" x=\"50%\" y=\"1em\">VBZ</text></svg></svg><line stroke=\"black\" x1=\"50%\" x2=\"50%\" y1=\"1.2em\" y2=\"3em\" /></svg><line stroke=\"black\" x1=\"50%\" x2=\"10.119%\" y1=\"1.2em\" y2=\"3em\" /><svg width=\"8.33333%\" x=\"13.0952%\" y=\"3em\"><defs /><svg width=\"100%\" x=\"0\" y=\"0em\"><defs /><text text-anchor=\"middle\" x=\"50%\" y=\"1em\">going</text></svg><svg width=\"100%\" x=\"0%\" y=\"3em\"><defs /><svg width=\"100%\" x=\"0\" y=\"0em\"><defs /><text text-anchor=\"middle\" x=\"50%\" y=\"1em\">VBG</text></svg></svg><line stroke=\"black\" x1=\"50%\" x2=\"50%\" y1=\"1.2em\" y2=\"3em\" /></svg><line stroke=\"black\" x1=\"50%\" x2=\"17.2619%\" y1=\"1.2em\" y2=\"3em\" /><svg width=\"4.7619%\" x=\"21.4286%\" y=\"3em\"><defs /><svg width=\"100%\" x=\"0\" y=\"0em\"><defs /><text text-anchor=\"middle\" x=\"50%\" y=\"1em\">to</text></svg><svg width=\"100%\" x=\"0%\" y=\"3em\"><defs /><svg width=\"100%\" x=\"0\" y=\"0em\"><defs /><text text-anchor=\"middle\" x=\"50%\" y=\"1em\">TO</text></svg></svg><line stroke=\"black\" x1=\"50%\" x2=\"50%\" y1=\"1.2em\" y2=\"3em\" /></svg><line stroke=\"black\" x1=\"50%\" x2=\"23.8095%\" y1=\"1.2em\" y2=\"3em\" /><svg width=\"8.33333%\" x=\"26.1905%\" y=\"3em\"><defs /><svg width=\"100%\" x=\"0\" y=\"0em\"><defs /><text text-anchor=\"middle\" x=\"50%\" y=\"1em\">Paris</text></svg><svg width=\"100%\" x=\"0%\" y=\"3em\"><defs /><svg width=\"100%\" x=\"0\" y=\"0em\"><defs /><text text-anchor=\"middle\" x=\"50%\" y=\"1em\">NNP</text></svg></svg><line stroke=\"black\" x1=\"50%\" x2=\"50%\" y1=\"1.2em\" y2=\"3em\" /></svg><line stroke=\"black\" x1=\"50%\" x2=\"30.3571%\" y1=\"1.2em\" y2=\"3em\" /><svg width=\"4.7619%\" x=\"34.5238%\" y=\"3em\"><defs /><svg width=\"100%\" x=\"0\" y=\"0em\"><defs /><text text-anchor=\"middle\" x=\"50%\" y=\"1em\">on</text></svg><svg width=\"100%\" x=\"0%\" y=\"3em\"><defs /><svg width=\"100%\" x=\"0\" y=\"0em\"><defs /><text text-anchor=\"middle\" x=\"50%\" y=\"1em\">IN</text></svg></svg><line stroke=\"black\" x1=\"50%\" x2=\"50%\" y1=\"1.2em\" y2=\"3em\" /></svg><line stroke=\"black\" x1=\"50%\" x2=\"36.9048%\" y1=\"1.2em\" y2=\"3em\" /><svg width=\"5.95238%\" x=\"39.2857%\" y=\"3em\"><defs /><svg width=\"100%\" x=\"0\" y=\"0em\"><defs /><text text-anchor=\"middle\" x=\"50%\" y=\"1em\">NP</text></svg><svg width=\"100%\" x=\"0%\" y=\"3em\"><defs /><svg width=\"100%\" x=\"0\" y=\"0em\"><defs /><text text-anchor=\"middle\" x=\"50%\" y=\"1em\">sep</text></svg><svg width=\"100%\" x=\"0%\" y=\"3em\"><defs /><svg width=\"100%\" x=\"0\" y=\"0em\"><defs /><text text-anchor=\"middle\" x=\"50%\" y=\"1em\">NN</text></svg></svg><line stroke=\"black\" x1=\"50%\" x2=\"50%\" y1=\"1.2em\" y2=\"3em\" /></svg><line stroke=\"black\" x1=\"50%\" x2=\"50%\" y1=\"1.2em\" y2=\"3em\" /></svg><line stroke=\"black\" x1=\"50%\" x2=\"42.2619%\" y1=\"1.2em\" y2=\"3em\" /><svg width=\"4.7619%\" x=\"45.2381%\" y=\"3em\"><defs /><svg width=\"100%\" x=\"0\" y=\"0em\"><defs /><text text-anchor=\"middle\" x=\"50%\" y=\"1em\">6</text></svg><svg width=\"100%\" x=\"0%\" y=\"3em\"><defs /><svg width=\"100%\" x=\"0\" y=\"0em\"><defs /><text text-anchor=\"middle\" x=\"50%\" y=\"1em\">CD</text></svg></svg><line stroke=\"black\" x1=\"50%\" x2=\"50%\" y1=\"1.2em\" y2=\"3em\" /></svg><line stroke=\"black\" x1=\"50%\" x2=\"47.619%\" y1=\"1.2em\" y2=\"3em\" /><svg width=\"4.7619%\" x=\"50%\" y=\"3em\"><defs /><svg width=\"100%\" x=\"0\" y=\"0em\"><defs /><text text-anchor=\"middle\" x=\"50%\" y=\"1em\">at</text></svg><svg width=\"100%\" x=\"0%\" y=\"3em\"><defs /><svg width=\"100%\" x=\"0\" y=\"0em\"><defs /><text text-anchor=\"middle\" x=\"50%\" y=\"1em\">IN</text></svg></svg><line stroke=\"black\" x1=\"50%\" x2=\"50%\" y1=\"1.2em\" y2=\"3em\" /></svg><line stroke=\"black\" x1=\"50%\" x2=\"52.381%\" y1=\"1.2em\" y2=\"3em\" /><svg width=\"5.95238%\" x=\"54.7619%\" y=\"3em\"><defs /><svg width=\"100%\" x=\"0\" y=\"0em\"><defs /><text text-anchor=\"middle\" x=\"50%\" y=\"1em\">2pm</text></svg><svg width=\"100%\" x=\"0%\" y=\"3em\"><defs /><svg width=\"100%\" x=\"0\" y=\"0em\"><defs /><text text-anchor=\"middle\" x=\"50%\" y=\"1em\">CD</text></svg></svg><line stroke=\"black\" x1=\"50%\" x2=\"50%\" y1=\"1.2em\" y2=\"3em\" /></svg><line stroke=\"black\" x1=\"50%\" x2=\"57.7381%\" y1=\"1.2em\" y2=\"3em\" /><svg width=\"7.14286%\" x=\"60.7143%\" y=\"3em\"><defs /><svg width=\"100%\" x=\"0\" y=\"0em\"><defs /><text text-anchor=\"middle\" x=\"50%\" y=\"1em\">from</text></svg><svg width=\"100%\" x=\"0%\" y=\"3em\"><defs /><svg width=\"100%\" x=\"0\" y=\"0em\"><defs /><text text-anchor=\"middle\" x=\"50%\" y=\"1em\">IN</text></svg></svg><line stroke=\"black\" x1=\"50%\" x2=\"50%\" y1=\"1.2em\" y2=\"3em\" /></svg><line stroke=\"black\" x1=\"50%\" x2=\"64.2857%\" y1=\"1.2em\" y2=\"3em\" /><svg width=\"9.52381%\" x=\"67.8571%\" y=\"3em\"><defs /><svg width=\"100%\" x=\"0\" y=\"0em\"><defs /><text text-anchor=\"middle\" x=\"50%\" y=\"1em\">Boston</text></svg><svg width=\"100%\" x=\"0%\" y=\"3em\"><defs /><svg width=\"100%\" x=\"0\" y=\"0em\"><defs /><text text-anchor=\"middle\" x=\"50%\" y=\"1em\">NNP</text></svg></svg><line stroke=\"black\" x1=\"50%\" x2=\"50%\" y1=\"1.2em\" y2=\"3em\" /></svg><line stroke=\"black\" x1=\"50%\" x2=\"72.619%\" y1=\"1.2em\" y2=\"3em\" /><svg width=\"8.33333%\" x=\"77.381%\" y=\"3em\"><defs /><svg width=\"100%\" x=\"0\" y=\"0em\"><defs /><text text-anchor=\"middle\" x=\"50%\" y=\"1em\">Logan</text></svg><svg width=\"100%\" x=\"0%\" y=\"3em\"><defs /><svg width=\"100%\" x=\"0\" y=\"0em\"><defs /><text text-anchor=\"middle\" x=\"50%\" y=\"1em\">NNP</text></svg></svg><line stroke=\"black\" x1=\"50%\" x2=\"50%\" y1=\"1.2em\" y2=\"3em\" /></svg><line stroke=\"black\" x1=\"50%\" x2=\"81.5476%\" y1=\"1.2em\" y2=\"3em\" /><svg width=\"10.7143%\" x=\"85.7143%\" y=\"3em\"><defs /><svg width=\"100%\" x=\"0\" y=\"0em\"><defs /><text text-anchor=\"middle\" x=\"50%\" y=\"1em\">Airport</text></svg><svg width=\"100%\" x=\"0%\" y=\"3em\"><defs /><svg width=\"100%\" x=\"0\" y=\"0em\"><defs /><text text-anchor=\"middle\" x=\"50%\" y=\"1em\">NNP</text></svg></svg><line stroke=\"black\" x1=\"50%\" x2=\"50%\" y1=\"1.2em\" y2=\"3em\" /></svg><line stroke=\"black\" x1=\"50%\" x2=\"91.0714%\" y1=\"1.2em\" y2=\"3em\" /><svg width=\"3.57143%\" x=\"96.4286%\" y=\"3em\"><defs /><svg width=\"100%\" x=\"0\" y=\"0em\"><defs /><text text-anchor=\"middle\" x=\"50%\" y=\"1em\">.</text></svg><svg width=\"100%\" x=\"0%\" y=\"3em\"><defs /><svg width=\"100%\" x=\"0\" y=\"0em\"><defs /><text text-anchor=\"middle\" x=\"50%\" y=\"1em\">.</text></svg></svg><line stroke=\"black\" x1=\"50%\" x2=\"50%\" y1=\"1.2em\" y2=\"3em\" /></svg><line stroke=\"black\" x1=\"50%\" x2=\"98.2143%\" y1=\"1.2em\" y2=\"3em\" /></svg>"
          },
          "metadata": {},
          "execution_count": 56
        }
      ]
    },
    {
      "cell_type": "code",
      "source": [
        "for s in sent_ls:\n",
        "  sent = getPOS(s)\n",
        "  # pattern for chunking:\n",
        "  # a noun(NP) should be formed whenever the chunker finds an optional \n",
        "  # determiner(DT) followed by any number of adjectives(JJ) and then a noun(NN)\n",
        "  pattern = 'NP: {<DT>?<JJ>*<NN>}'\n"
      ],
      "metadata": {
        "id": "DNqUnvyRWAqL"
      },
      "execution_count": null,
      "outputs": []
    },
    {
      "cell_type": "markdown",
      "source": [
        "Find NER with spacy"
      ],
      "metadata": {
        "id": "9RAPDueflL2O"
      }
    },
    {
      "cell_type": "code",
      "source": [
        "import spacy\n",
        "from spacy import displacy\n",
        "from collections import Counter\n",
        "!python -m spacy download en_core_web_lg\n",
        "# import en_core_web_lg\n",
        "# nlp = en_core_web_sm.load()\n",
        "nlp = spacy.load('en_core_web_lg')"
      ],
      "metadata": {
        "id": "h5XNTIkNfkIA"
      },
      "execution_count": null,
      "outputs": []
    },
    {
      "cell_type": "code",
      "source": [
        "import re\n",
        "# remove /n and Q: A:\n",
        "# str -> str\n",
        "def process(sent):\n",
        "  sent = re.sub(r'\\n', ' ', sent)\n",
        "  sent = re.sub('[QA]:+', ' ', sent)\n",
        "  return sent\n",
        "\n",
        "output_ls=[]\n",
        "for i, sent in enumerate(sent_ls):\n",
        "  s = process(sent)\n",
        "  doc = nlp(s)\n",
        "  output_ls += [(X.text, X.label_, i) for X in doc.ents]\n"
      ],
      "metadata": {
        "id": "DpOfX7-cgf7x"
      },
      "execution_count": null,
      "outputs": []
    },
    {
      "cell_type": "code",
      "source": [
        "output_ls[0]"
      ],
      "metadata": {
        "colab": {
          "base_uri": "https://localhost:8080/"
        },
        "id": "svwTvo1hld7W",
        "outputId": "0868778b-a902-4d80-c4c6-56510f4146ef"
      },
      "execution_count": null,
      "outputs": [
        {
          "output_type": "execute_result",
          "data": {
            "text/plain": [
              "('French', 'NORP', 0)"
            ]
          },
          "metadata": {},
          "execution_count": 105
        }
      ]
    },
    {
      "cell_type": "code",
      "source": [
        "import csv\n",
        "folderpath=\"/content/drive/MyDrive/CS505/finalProj/\"\n",
        "with open(folderpath+'ner_spacy_lg.csv', 'w') as f:\n",
        "  write=csv.writer(f)\n",
        "  write.writerows(output_ls)"
      ],
      "metadata": {
        "id": "mABe4dZvl283"
      },
      "execution_count": null,
      "outputs": []
    },
    {
      "cell_type": "code",
      "source": [
        "!head /content/drive/MyDrive/CS505/finalProj/ner_spacy.csv"
      ],
      "metadata": {
        "colab": {
          "base_uri": "https://localhost:8080/"
        },
        "id": "mqC9ZzqgmzBk",
        "outputId": "4dc8efc7-d8c2-4dc2-8c13-602c0aa34fe9"
      },
      "execution_count": null,
      "outputs": [
        {
          "output_type": "stream",
          "name": "stdout",
          "text": [
            "French,NORP,0\r\n",
            "Saturday,DATE,0\r\n",
            "Cameron,ORG,1\r\n",
            "one,CARDINAL,5\r\n",
            "twenty minutes,TIME,6\r\n",
            "two,CARDINAL,6\r\n",
            "Kat,PERSON,7\r\n",
            "Gigglepuss,PRODUCT,9\r\n",
            "Club Skunk,ORG,9\r\n",
            "Shakespeare,PERSON,10\r\n"
          ]
        }
      ]
    },
    {
      "cell_type": "markdown",
      "source": [
        "Find NER with nltk"
      ],
      "metadata": {
        "id": "Vor7-l2ulR2o"
      }
    },
    {
      "cell_type": "code",
      "source": [
        "def ner_nltk(sentence, i):\n",
        "  out=[]\n",
        "  for sent in nltk.sent_tokenize(sentence):\n",
        "    for chunk in nltk.ne_chunk(nltk.pos_tag(nltk.word_tokenize(sent))):\n",
        "      if hasattr(chunk, 'label'):\n",
        "          out.append((' '.join(c[0] for c in chunk), chunk.label(), i))\n",
        "  return out"
      ],
      "metadata": {
        "id": "yVxEjArmlDec"
      },
      "execution_count": null,
      "outputs": []
    },
    {
      "cell_type": "code",
      "source": [
        "output_ls_nltk=[]\n",
        "for i, sent in enumerate(sent_ls):\n",
        "  s = process(sent)\n",
        "  output_ls_nltk+=ner_nltk(s,i)"
      ],
      "metadata": {
        "id": "T7CxvGcSlamr"
      },
      "execution_count": null,
      "outputs": []
    },
    {
      "cell_type": "code",
      "source": [
        "import csv\n",
        "with open(folderpath+'ner_nltk.csv', 'w') as f:\n",
        "  write=csv.writer(f)\n",
        "  write.writerows(output_ls_nltk)"
      ],
      "metadata": {
        "id": "RMeGjyGipfBm"
      },
      "execution_count": null,
      "outputs": []
    },
    {
      "cell_type": "code",
      "source": [
        "!head /content/drive/MyDrive/CS505/finalProj/ner_nltk.csv"
      ],
      "metadata": {
        "colab": {
          "base_uri": "https://localhost:8080/"
        },
        "id": "Xb7KgcToxnVY",
        "outputId": "a968d571-5b47-4bac-d6e9-70b90e9f1356"
      },
      "execution_count": null,
      "outputs": [
        {
          "output_type": "stream",
          "name": "stdout",
          "text": [
            "Please,GPE,0\r\n",
            "Okay,GPE,0\r\n",
            "French,GPE,0\r\n",
            "Night,GPE,0\r\n",
            "Cameron,PERSON,1\r\n",
            "Gosh,GPE,2\r\n",
            "Wench,ORGANIZATION,3\r\n",
            "Pretty,GPE,4\r\n",
            "Me,GPE,5\r\n",
            "Thank,GPE,5\r\n"
          ]
        }
      ]
    },
    {
      "cell_type": "markdown",
      "source": [
        "Bert-based"
      ],
      "metadata": {
        "id": "OW2lAte0aN7_"
      }
    },
    {
      "cell_type": "code",
      "source": [
        "!pip install transformers\n",
        "from transformers import AutoTokenizer, AutoModelForTokenClassification\n",
        "from transformers import pipeline\n",
        "\n",
        "tokenizer = AutoTokenizer.from_pretrained(\"dslim/bert-base-NER\")\n",
        "model = AutoModelForTokenClassification.from_pretrained(\"dslim/bert-base-NER\")\n",
        "nlp = pipeline(\"ner\", model=model, tokenizer=tokenizer)"
      ],
      "metadata": {
        "id": "Spiq6vpBSXRd"
      },
      "execution_count": null,
      "outputs": []
    },
    {
      "cell_type": "code",
      "source": [
        "output = []\n",
        "for i, sent in enumerate(sent_ls):\n",
        "  ner_result = nlp(sent)\n",
        "  for x in ner_result:\n",
        "    output += (x['word']+','+x['entity']+','+i+'\\n')"
      ],
      "metadata": {
        "id": "KmMfX6UqShMZ"
      },
      "execution_count": null,
      "outputs": []
    },
    {
      "cell_type": "code",
      "source": [
        "print(output[0])\n",
        "print(output[1])\n",
        "print(output[2])"
      ],
      "metadata": {
        "colab": {
          "base_uri": "https://localhost:8080/"
        },
        "id": "1D7q5v56S3Pl",
        "outputId": "d82fac26-f922-41c3-9454-56cedd9b2c2b"
      },
      "execution_count": null,
      "outputs": [
        {
          "output_type": "stream",
          "name": "stdout",
          "text": [
            "French\n",
            "B-MISC\n",
            "0\n"
          ]
        }
      ]
    }
  ]
}